{
 "cells": [
  {
   "cell_type": "markdown",
   "metadata": {},
   "source": [
    "Выбираем стратегию работы с данными: \n",
    "* False - если хотим работать только с теми данными, что 100% подтверждены BigY500/BigY700/SNP;\n",
    "* True - если хотим работать с наибольшим возможным количеством данных, полученным в результате предсказания SNP по STR с некоторой точностью.<br>\n",
    "\n",
    "Задаем целевой SNP, чьи дочерние SNP будут наноситься на карту.<br>\n",
    "Задаем количество STR (12/37/67/111), которое будет использоваться на шаге предсказания SNP.<br>\n",
    "Задаем координаты левого нижнего угла сетки из шестиугольников.<br>\n",
    "Задаем ширину/длину сетки из шестиугольников. Координаты правого верхнего угла сетки из прямоугольников это x_0+x_1:y_0+y_1.<br>\n",
    "Задаем координаты центра карты и степень приближения.<br>\n",
    "Задаем размеры шестиугольников для каждого из слоев. По умолчанию будет отображаться только первый. "
   ]
  },
  {
   "cell_type": "code",
   "execution_count": null,
   "metadata": {},
   "outputs": [],
   "source": [
    "is_extended = True\n",
    "target_snp = 'R-CTS1211'\n",
    "str_number = 111\n",
    "x_0 = 0\n",
    "y_0 = 37\n",
    "x_1 = 42\n",
    "y_1 = 27\n",
    "x_center = 23.169720\n",
    "y_center = 48.814170\n",
    "zoom = 5\n",
    "h_list = [0.25, 0.5, 0.75, 1.0, 1.25, 1.5, 1.75, 2.0]\n"
   ]
  },
  {
   "cell_type": "markdown",
   "metadata": {},
   "source": [
    "Подготовка данных"
   ]
  },
  {
   "cell_type": "code",
   "execution_count": null,
   "metadata": {},
   "outputs": [],
   "source": [
    "import pandas as pd\n",
    "import numpy as np\n",
    "import math\n",
    "import random\n",
    "import utils\n",
    "import ftdna_tree_collector_rest\n",
    "\n",
    "from itertools import product\n",
    "from shapely.geometry import Polygon\n",
    "from folium.plugins import HeatMap\n",
    "\n",
    "combined_df = pd.read_csv('combined_snp_str_map.csv', engine='python')\n",
    "print(\"Количество строк в файле: {}\".format(len(combined_df.index)))\n",
    "\n",
    "print(\"Открываем древо Y-SNP от FTDNA.\")\n",
    "json_tree_rows = ftdna_tree_collector_rest.get_json_tree_rows()\n",
    "\n",
    "print(\"Получаем список дочерних SNP целевого SNP.\")\n",
    "child_snps = ftdna_tree_collector_rest.get_children_list(json_tree_rows, target_snp)\n",
    "print(child_snps)\n",
    "\n",
    "print(\"Создаем словарь 'Набор SNP: Цвет'.\")\n",
    "combination_to_color_dict = {}\n",
    "for snp in [tuple(i) for i in product([True, False], repeat=len(child_snps))]:\n",
    "    combination_to_color_dict[snp] = \"#%06x\" % random.randint(0, 0xFFFFFF)\n",
    "\n",
    "print(\"Среди всех строк ищем те, что имеют положительный SNP, восходящий к одному из дочерних SNP целевого SNP.\")\n",
    "combined_df = utils.get_positive_snps(child_snps, combined_df, json_tree_rows)\n",
    "print(\"Отбрасываем строки, содержащие 'Other' в столбце 'Short Hand'.\")\n",
    "combined_df = combined_df.drop(combined_df[combined_df['Short Hand'] == 'Other'].index)\n",
    "print(\"Количество представителей выбранной ветви: {}\".format(len(combined_df.index)))\n",
    "print(\"Количество представителей каждой подветви: \\n{}\".format(combined_df['Short Hand'].value_counts()))\n",
    "\n",
    "print(\"Создаем столько сеток из шестиугольников, сколько размеров было задано на 1-м шаге.\")\n",
    "polygon_list_list = []\n",
    "for h in h_list:\n",
    "    polygon_list = []\n",
    "    is_even = False\n",
    "    for lat in np.arange(y_0, y_0 + y_1, (math.sin(math.radians(30)) * h - math.sin(math.radians(270)) * h)):\n",
    "        if is_even:\n",
    "            is_even = False\n",
    "            x_0 = x_0 + (math.cos(math.radians(30)) * h -\n",
    "                         math.cos(math.radians(150)) * h) / 2\n",
    "        else:\n",
    "            is_even = True\n",
    "            x_0 = x_0 - (math.cos(math.radians(30)) * h -\n",
    "                         math.cos(math.radians(150)) * h) / 2\n",
    "        for lon in np.arange(x_0, x_0 + x_1, (math.cos(math.radians(30)) * h - math.cos(math.radians(150)) * h)):\n",
    "            polygon_list.append(Polygon([[lon + math.cos(math.radians(angle)) * h,\n",
    "                                          lat + math.sin(math.radians(angle)) * h]\n",
    "                                         for angle in range(30, 360, 60)]))\n",
    "\n",
    "    polygon_list_list.append(polygon_list)\n"
   ]
  },
  {
   "cell_type": "markdown",
   "metadata": {},
   "source": [
    "Обработка данных"
   ]
  },
  {
   "cell_type": "code",
   "execution_count": null,
   "metadata": {},
   "outputs": [],
   "source": [
    "utils.get_map(combined_df, False, polygon_list_list, child_snps, y_center, x_center, zoom,\n",
    "              combination_to_color_dict, target_snp, h_list)\n",
    "if is_extended:\n",
    "    combined_df = utils.get_extended_data(combined_df, str_number, json_tree_rows, child_snps)\n",
    "    utils.get_map(combined_df, True, polygon_list_list, child_snps, y_center, x_center, zoom,\n",
    "                  combination_to_color_dict, target_snp, h_list)\n"
   ]
  }
 ],
 "metadata": {
  "kernelspec": {
   "display_name": "Python 3",
   "language": "python",
   "name": "python3"
  },
  "language_info": {
   "codemirror_mode": {
    "name": "ipython",
    "version": 3
   },
   "file_extension": ".py",
   "mimetype": "text/x-python",
   "name": "python",
   "nbconvert_exporter": "python",
   "pygments_lexer": "ipython3",
   "version": "3.5.3"
  }
 },
 "nbformat": 4,
 "nbformat_minor": 2
}
